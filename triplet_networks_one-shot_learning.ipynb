{
 "cells": [
  {
   "cell_type": "markdown",
   "metadata": {
    "colab_type": "text",
    "id": "uj4T8PEHGbMF"
   },
   "source": [
    "# Assignment 3\n",
    "\n",
    "<b>Group 12</b>\n",
    "* <b> Student </b> : REHAN FAZAL  + 1423002"
   ]
  },
  {
   "cell_type": "markdown",
   "metadata": {
    "colab_type": "text",
    "id": "p-gkaM1tCThc"
   },
   "source": [
    "***\n",
    "## Question: Triplet networks & one-shot learning\n",
    "\n",
    "In practice 4b.4, we train a Siamese network for one-shot learning task on the Omniglot dataset.  In this assignment, we will work on the same data set with the same task but extend it to triplet networks, we will also compare our model performance under different triplet selection method. The assignment contains the following 4 tasks"
   ]
  },
  {
   "cell_type": "markdown",
   "metadata": {
    "colab_type": "text",
    "id": "ZqdQgnI5AuN5"
   },
   "source": [
    "### Import packages and mount data\n",
    "Before everything, we need to import packages and mount data,\n",
    "*HINT: you could use the dataset in practice 4b.4 directly*"
   ]
  },
  {
   "cell_type": "code",
   "execution_count": 0,
   "metadata": {
    "colab": {},
    "colab_type": "code",
    "id": "8QdDDUEIAuN6"
   },
   "outputs": [],
   "source": [
    "import tensorflow as tf\n",
    "from tensorflow.keras import backend as K\n",
    "from tensorflow.keras.layers import Input, Conv2D, Lambda, Dense, Flatten, MaxPooling2D, Dropout,Concatenate, BatchNormalization\n",
    "from tensorflow.keras.models import Model, Sequential\n",
    "from tensorflow.keras.regularizers import l2\n",
    "from tensorflow.keras.optimizers import Adam\n",
    "from tensorflow.keras.losses import binary_crossentropy\n",
    "import numpy as np\n",
    "import os\n",
    "import pickle\n",
    "import matplotlib.pyplot as plt\n",
    "from sklearn.utils import shuffle"
   ]
  },
  {
   "cell_type": "code",
   "execution_count": 2,
   "metadata": {
    "colab": {
     "base_uri": "https://localhost:8080/",
     "height": 122
    },
    "colab_type": "code",
    "executionInfo": {
     "elapsed": 23964,
     "status": "ok",
     "timestamp": 1590763930069,
     "user": {
      "displayName": "Antonaba Varela",
      "photoUrl": "",
      "userId": "06371348070710609953"
     },
     "user_tz": -120
    },
    "id": "YzhGJvL2A7aL",
    "outputId": "c3f43c65-bfb4-4d96-f8c8-9de7deef4952"
   },
   "outputs": [
    {
     "name": "stdout",
     "output_type": "stream",
     "text": [
      "Go to this URL in a browser: https://accounts.google.com/o/oauth2/auth?client_id=947318989803-6bn6qk8qdgf4n4g3pfee6491hc0brc4i.apps.googleusercontent.com&redirect_uri=urn%3aietf%3awg%3aoauth%3a2.0%3aoob&response_type=code&scope=email%20https%3a%2f%2fwww.googleapis.com%2fauth%2fdocs.test%20https%3a%2f%2fwww.googleapis.com%2fauth%2fdrive%20https%3a%2f%2fwww.googleapis.com%2fauth%2fdrive.photos.readonly%20https%3a%2f%2fwww.googleapis.com%2fauth%2fpeopleapi.readonly\n",
      "\n",
      "Enter your authorization code:\n",
      "··········\n",
      "Mounted at drive\n"
     ]
    }
   ],
   "source": [
    "# mount the data needed to drive folder so we can use them in colab, see the data download link in Practical 4a.1\n",
    "from google.colab import drive\n",
    "!mkdir drive\n",
    "drive.mount('drive')"
   ]
  },
  {
   "cell_type": "code",
   "execution_count": 3,
   "metadata": {
    "colab": {
     "base_uri": "https://localhost:8080/",
     "height": 156
    },
    "colab_type": "code",
    "executionInfo": {
     "elapsed": 1236,
     "status": "ok",
     "timestamp": 1590769566495,
     "user": {
      "displayName": "Antonaba Varela",
      "photoUrl": "",
      "userId": "06371348070710609953"
     },
     "user_tz": -120
    },
    "id": "NEy5u5WBAuN_",
    "outputId": "2f78a7c9-70f5-467d-9630-4f95ecf5a488"
   },
   "outputs": [
    {
     "name": "stdout",
     "output_type": "stream",
     "text": [
      "X_train shape: (964, 20, 105, 105)\n",
      "X_test shape: (659, 20, 105, 105)\n",
      "\n",
      "training alphabets\n",
      "['Braille', 'Anglo-Saxon_Futhorc', 'Tifinagh', 'Grantha', 'Burmese_(Myanmar)', 'Mkhedruli_(Georgian)', 'Latin', 'Ojibwe_(Canadian_Aboriginal_Syllabics)', 'Balinese', 'Malay_(Jawi_-_Arabic)', 'Early_Aramaic', 'Korean', 'Japanese_(hiragana)', 'Armenian', 'Cyrillic', 'Hebrew', 'Syriac_(Estrangelo)', 'Japanese_(katakana)', 'Blackfoot_(Canadian_Aboriginal_Syllabics)', 'N_Ko', 'Alphabet_of_the_Magi', 'Inuktitut_(Canadian_Aboriginal_Syllabics)', 'Greek', 'Bengali', 'Tagalog', 'Futurama', 'Arcadian', 'Gujarati', 'Asomtavruli_(Georgian)', 'Sanskrit']\n",
      "test alphabets:\n",
      "['ULOG', 'Atemayar_Qelisayer', 'Ge_ez', 'Gurmukhi', 'Tengwar', 'Keble', 'Malayalam', 'Oriya', 'Kannada', 'Mongolian', 'Angelic', 'Atlantean', 'Syriac_(Serto)', 'Aurek-Besh', 'Avesta', 'Glagolitic', 'Sylheti', 'Tibetan', 'Manipuri', 'Old_Church_Slavonic_(Cyrillic)']\n"
     ]
    }
   ],
   "source": [
    "PATH = os.path.join(\"drive\",\"My Drive\",\"2IMM10\", \"Assignment 2\" ,\"omniglot\")\n",
    "\n",
    "with open(os.path.join(PATH, \"omniglot_train.p\"), \"rb\") as f:\n",
    "    (X_train, c_train) = pickle.load(f)\n",
    "\n",
    "with open(os.path.join(PATH, \"omniglot_test.p\"), \"rb\") as f:\n",
    "    (X_test, c_test) = pickle.load(f)\n",
    "\n",
    "print(\"X_train shape:\", X_train.shape)\n",
    "print(\"X_test shape:\", X_test.shape)\n",
    "print(\"\")\n",
    "print(\"training alphabets\")\n",
    "print([key for key in c_train.keys()])\n",
    "print(\"test alphabets:\")\n",
    "print([key for key in c_test.keys()])"
   ]
  },
  {
   "cell_type": "markdown",
   "metadata": {
    "colab_type": "text",
    "id": "QP79HYQrXD2k"
   },
   "source": [
    "### Task 2.1: Build  the triplet network (3pt)"
   ]
  },
  {
   "cell_type": "markdown",
   "metadata": {
    "colab_type": "text",
    "id": "1WHpL8iHAuOH"
   },
   "source": [
    "We will define a triplet Network for use with the Omniglot dataset. Each branch of the triplet  is a \"convnet\" model that transforms data to an embeddings space. \n",
    "\n",
    "*HINT: you may need \"Concatenate\" from keras.layer to merge the output layer*"
   ]
  },
  {
   "cell_type": "code",
   "execution_count": 4,
   "metadata": {
    "colab": {
     "base_uri": "https://localhost:8080/",
     "height": 731
    },
    "colab_type": "code",
    "executionInfo": {
     "elapsed": 1766,
     "status": "ok",
     "timestamp": 1590769570771,
     "user": {
      "displayName": "Antonaba Varela",
      "photoUrl": "",
      "userId": "06371348070710609953"
     },
     "user_tz": -120
    },
    "id": "GQNaMa8hXD2l",
    "outputId": "787ff967-5814-49c4-f16e-9a71f8869f2b"
   },
   "outputs": [
    {
     "name": "stdout",
     "output_type": "stream",
     "text": [
      "Model: \"sequential\"\n",
      "_________________________________________________________________\n",
      "Layer (type)                 Output Shape              Param #   \n",
      "=================================================================\n",
      "conv2d (Conv2D)              (None, 96, 96, 64)        6464      \n",
      "_________________________________________________________________\n",
      "max_pooling2d (MaxPooling2D) (None, 48, 48, 64)        0         \n",
      "_________________________________________________________________\n",
      "batch_normalization (BatchNo (None, 48, 48, 64)        256       \n",
      "_________________________________________________________________\n",
      "dropout (Dropout)            (None, 48, 48, 64)        0         \n",
      "_________________________________________________________________\n",
      "conv2d_1 (Conv2D)            (None, 42, 42, 128)       401536    \n",
      "_________________________________________________________________\n",
      "max_pooling2d_1 (MaxPooling2 (None, 21, 21, 128)       0         \n",
      "_________________________________________________________________\n",
      "batch_normalization_1 (Batch (None, 21, 21, 128)       512       \n",
      "_________________________________________________________________\n",
      "dropout_1 (Dropout)          (None, 21, 21, 128)       0         \n",
      "_________________________________________________________________\n",
      "conv2d_2 (Conv2D)            (None, 18, 18, 128)       262272    \n",
      "_________________________________________________________________\n",
      "max_pooling2d_2 (MaxPooling2 (None, 9, 9, 128)         0         \n",
      "_________________________________________________________________\n",
      "batch_normalization_2 (Batch (None, 9, 9, 128)         512       \n",
      "_________________________________________________________________\n",
      "dropout_2 (Dropout)          (None, 9, 9, 128)         0         \n",
      "_________________________________________________________________\n",
      "conv2d_3 (Conv2D)            (None, 6, 6, 256)         524544    \n",
      "_________________________________________________________________\n",
      "flatten (Flatten)            (None, 9216)              0         \n",
      "_________________________________________________________________\n",
      "batch_normalization_3 (Batch (None, 9216)              36864     \n",
      "_________________________________________________________________\n",
      "dropout_3 (Dropout)          (None, 9216)              0         \n",
      "_________________________________________________________________\n",
      "dense (Dense)                (None, 4096)              37752832  \n",
      "=================================================================\n",
      "Total params: 38,985,792\n",
      "Trainable params: 38,966,720\n",
      "Non-trainable params: 19,072\n",
      "_________________________________________________________________\n"
     ]
    }
   ],
   "source": [
    "# define a convnet model to transforms data to an embeddings space. \n",
    "# === COMPLETE CODE BELOW ===\n",
    "input_shape = (105, 105,1)\n",
    "\n",
    "convnet = Sequential()\n",
    "convnet.add(Conv2D(64, (10,10), activation='relu', input_shape=input_shape, kernel_regularizer=l2(2e-4)))\n",
    "convnet.add(MaxPooling2D())\n",
    "convnet.add(BatchNormalization())\n",
    "convnet.add(Dropout(0.25))\n",
    "convnet.add(Conv2D(128, (7,7), activation='relu', kernel_regularizer=l2(2e-4)))\n",
    "convnet.add(MaxPooling2D())\n",
    "convnet.add(BatchNormalization())\n",
    "convnet.add(Dropout(0.25))\n",
    "convnet.add(Conv2D(128, (4,4), activation='relu', kernel_regularizer=l2(2e-4)))\n",
    "convnet.add(MaxPooling2D())\n",
    "convnet.add(BatchNormalization())\n",
    "convnet.add(Dropout(0.25))\n",
    "convnet.add(Conv2D(256, (4,4), activation='relu', kernel_regularizer=l2(2e-4)))\n",
    "convnet.add(Flatten())\n",
    "convnet.add(BatchNormalization())\n",
    "convnet.add(Dropout(0.25))\n",
    "convnet.add(Dense(4096, activation=\"sigmoid\", kernel_regularizer=l2(1e-3)))\n",
    "convnet.summary()"
   ]
  },
  {
   "cell_type": "code",
   "execution_count": 5,
   "metadata": {
    "colab": {
     "base_uri": "https://localhost:8080/",
     "height": 425
    },
    "colab_type": "code",
    "executionInfo": {
     "elapsed": 1269,
     "status": "ok",
     "timestamp": 1590769575151,
     "user": {
      "displayName": "Antonaba Varela",
      "photoUrl": "",
      "userId": "06371348070710609953"
     },
     "user_tz": -120
    },
    "id": "RXVuWeCsAuOI",
    "outputId": "8ab6082f-44ea-468f-f305-dc696b75d6e3"
   },
   "outputs": [
    {
     "name": "stdout",
     "output_type": "stream",
     "text": [
      "Model: \"model\"\n",
      "__________________________________________________________________________________________________\n",
      "Layer (type)                    Output Shape         Param #     Connected to                     \n",
      "==================================================================================================\n",
      "input (InputLayer)              [(None, 3, 105, 105, 0                                            \n",
      "__________________________________________________________________________________________________\n",
      "lambda (Lambda)                 (None, 105, 105, 1)  0           input[0][0]                      \n",
      "__________________________________________________________________________________________________\n",
      "lambda_1 (Lambda)               (None, 105, 105, 1)  0           input[0][0]                      \n",
      "__________________________________________________________________________________________________\n",
      "lambda_2 (Lambda)               (None, 105, 105, 1)  0           input[0][0]                      \n",
      "__________________________________________________________________________________________________\n",
      "sequential (Sequential)         (None, 4096)         38985792    lambda[0][0]                     \n",
      "                                                                 lambda_1[0][0]                   \n",
      "                                                                 lambda_2[0][0]                   \n",
      "__________________________________________________________________________________________________\n",
      "concatenate (Concatenate)       (None, 12288)        0           sequential[1][0]                 \n",
      "                                                                 sequential[2][0]                 \n",
      "                                                                 sequential[3][0]                 \n",
      "==================================================================================================\n",
      "Total params: 38,985,792\n",
      "Trainable params: 38,966,720\n",
      "Non-trainable params: 19,072\n",
      "__________________________________________________________________________________________________\n"
     ]
    }
   ],
   "source": [
    "# define a Triplet network\n",
    "\n",
    "# The anchor, positive, negative image are merged together, as the input of the triplet network, then got split to get each one's neural codes.\n",
    "generated = Input(shape=(3,105, 105, 1), name='input')\n",
    "\n",
    "anchor  = Lambda(lambda x: x[:,0])(generated)\n",
    "pos     = Lambda(lambda x: x[:,1])(generated)\n",
    "neg     = Lambda(lambda x: x[:,2])(generated)\n",
    "                    \n",
    "\n",
    "anchor_embedding    = convnet(anchor)\n",
    "pos_embedding       = convnet(pos)\n",
    "neg_embedding       = convnet(neg)  \n",
    "\n",
    "# merge the anchor, positive, negative embedding together, \n",
    "# let the merged layer be the output of triplet network\n",
    "\n",
    "# === COMPLETE CODE BELOW ===\n",
    "merged_output = Concatenate(axis=1)([anchor_embedding,pos_embedding,neg_embedding])\n",
    "\n",
    "triplet_net = Model(inputs=generated, outputs=merged_output)\n",
    "triplet_net.summary()"
   ]
  },
  {
   "cell_type": "markdown",
   "metadata": {
    "colab_type": "text",
    "id": "A-XyrIANAuOM"
   },
   "source": [
    "### Task 2.2: Define triplet loss (2pt)\n",
    "\n",
    "You can find the formula of the triplet loss function in our lecture note. \n",
    "\n",
    "*HINT: you can play with the margin value to get better model performance*"
   ]
  },
  {
   "cell_type": "code",
   "execution_count": 0,
   "metadata": {
    "colab": {},
    "colab_type": "code",
    "id": "mZ3v2Z0RAuON"
   },
   "outputs": [],
   "source": [
    "# Notice that the ground truth variable is not used for loss calculation. \n",
    "# It is used as a function argument to by-pass some Keras functionality.\n",
    "# This is because the network structure already implies the ground truth for the anchor image with the \"positive\" image.\n",
    "import tensorflow as tf\n",
    "def triplet_loss(ground_truth, network_output):\n",
    "\n",
    "    anchor, positive, negative = tf.split(network_output, num_or_size_splits=3, axis=1)        \n",
    "    \n",
    "    # === COMPLETE CODE BELOW ===\n",
    "    pos_loss = K.sum(K.square(anchor-positive),axis=1)\n",
    "    neg_loss = K.sum(K.square(anchor-negative),axis=1)\n",
    "\n",
    "    loss = K.maximum(pos_loss-neg_loss+0.5, 0)\n",
    " \n",
    "    return loss\n",
    "\n",
    "triplet_net.compile(loss=triplet_loss, optimizer=\"adam\")"
   ]
  },
  {
   "cell_type": "markdown",
   "metadata": {
    "colab_type": "text",
    "id": "H7Wo8uzTXD2v"
   },
   "source": [
    "### Task 2.3: Select triplets for training (3pt)"
   ]
  },
  {
   "cell_type": "markdown",
   "metadata": {
    "colab_type": "text",
    "id": "tSSr9IzTAuOX"
   },
   "source": [
    "#### Different  selection method\n",
    "\n",
    "We have two different options for the triplet selection method, and we will compare the model performance under these two methods after building our model.\n",
    "\n",
    "(1) Random  triplets selection, including the following steps:\n",
    "* Pick one random class for anchor\n",
    "* Pick two different random picture for this class, as the anchor and positive images\n",
    "* Pick another class for Negative, different from anchor_class\n",
    "* Pick one random picture from the negative class.\n",
    "\n",
    "(2) Hard triplets selection. For easy implement, for a picked anchor, positive pair, we will choose the hardest negative to form a hard triplet, that means, after picking an anchor, positive image, we will choose the negative image which is nearest from anchor image from a negative class, ie: \"- d(a,n)\"  can get the maximum value. The whole process including the following steps:\n",
    "* Pick one random class for anchor\n",
    "* Pick two different random picture for this class, as an anchor and positive images\n",
    "* Pick another class for negative, different from anchor_class\n",
    "* Pick one hardest picture from the negative class.\n",
    "\n",
    "*HINT: when picking the hardest negative, you may need the model.predict to get the embedding of images, the calculate the distances*"
   ]
  },
  {
   "cell_type": "code",
   "execution_count": 0,
   "metadata": {
    "colab": {},
    "colab_type": "code",
    "id": "HcxMsmACAuOY"
   },
   "outputs": [],
   "source": [
    "# Notice that the returned  1 * np.zeros(batch_size) is to by-pass some Keras functionality, corresponding to ground_truth in tripletloss\n",
    "# We use a variable hard_selection to control which method we are going to use. If we set hard_selection == False, we will select triplets random,If we set the variable hard_selection == True, we will select hard triplets.\n",
    "\n",
    "# === COMPLETE CODE BELOW === \n",
    "def get_batch(hard_selection,batch_size,X):\n",
    "  while True:\n",
    "    \n",
    "    n_classes, n_examples, w, h = X.shape\n",
    "    # initialize result\n",
    "    triplets=[]\n",
    "\n",
    "    for i in range(batch_size):\n",
    "        triplet = [[],[],[]]\n",
    "        #Pick one random class for anchor\n",
    "        anchor_class = np.random.randint(0, n_classes)\n",
    "\n",
    "        #Pick two different random pics for this class => idx_A and idx_P\n",
    "        [idx_A,idx_P] = np.random.choice(n_examples,size=2,replace=False)\n",
    "\n",
    "        #Pick another class for negative, different from anchor_class\n",
    "        # === COMPLETE CODE BELOW === \n",
    "        negative_class = np.random.randint(0, n_classes)\n",
    "        while(negative_class==anchor_class):\n",
    "          negative_class = np.random.randint(0, n_classes)\n",
    "\n",
    "        if not hard_selection:\n",
    "            #Pick a random pic from this negative class => N\n",
    "\n",
    "            # === COMPLETE CODE BELOW ===   \n",
    "            idx_N =idx_N = np.random.choice(n_examples,replace=False)\n",
    "\n",
    "        else:\n",
    "            #Pick a hardest pic from this negative class => N\n",
    "            # === COMPLETE CODE BELOW ===   \n",
    "            mini = -1\n",
    "            anchor= np.asarray([X[anchor_class, idx_A, :, :]]).reshape(1,w, h, 1)\n",
    "            positive = np.asarray([X[anchor_class, idx_P, :, :]]).reshape(1,w, h, 1)\n",
    "            for i in range(n_examples):\n",
    "              negative = np.asarray([X[negative_class, i, :, :]]).reshape(1,w, h, 1)\n",
    "              out= np.asarray([[anchor,positive,negative]]).reshape(1,3,w, h, 1)\n",
    "              output=triplet_net.predict(out)\n",
    "              loss = triplet_loss(network_output=output, ground_truth=True)\n",
    "              if(mini== -1 or loss>mini):\n",
    "                mini=loss\n",
    "                idx_N=i\n",
    "\n",
    "        triplet[0] = X[anchor_class][idx_A].reshape(w, h, 1)\n",
    "        triplet[1] = X[anchor_class][idx_P].reshape(w, h, 1)\n",
    "        triplet[2]=  X[negative_class][idx_N].reshape(w, h, 1)\n",
    "        triplets.append(triplet)\n",
    "\n",
    "\n",
    "    yield np.array(triplets), 1 * np.zeros(batch_size)"
   ]
  },
  {
   "cell_type": "markdown",
   "metadata": {
    "colab_type": "text",
    "id": "LP1oojLhXD2z"
   },
   "source": [
    "### Task 2.4: One-shot learning with different selection method (2pt)"
   ]
  },
  {
   "cell_type": "markdown",
   "metadata": {
    "colab_type": "text",
    "id": "XHGJp45AR1qm"
   },
   "source": [
    "Function \"make_oneshot_task\" that can randomly setup such a one-shot task from a given test set (if a language is specified, using only classes/characters from that language), i.e. it will generate N pairs of images, where the first image is always the test image, and the second image is one of the N reference images. The pair of images from the same class will have target 1, all other targets are 0.\n",
    "\n",
    "The function \"test_oneshot\" will generate a number (k) of such one-shot tasks and evaluate the performance of a given model on these tasks; it reports the percentage of correctly classified test images\n",
    "\n",
    "In \"test_oneshot\", you can use embeddings extracted from the triplet network with L2-distance to evaluate one-shot learning. i.e. for a given one-shot task, obtain embeddings for the test image as well as the support set. Then pick the image from the support set that is closest (in L2-distance) to the test image as your one-shot prediction.\n",
    "\n",
    "*HINT you can re-use some code from practice 4b.4*"
   ]
  },
  {
   "cell_type": "code",
   "execution_count": 0,
   "metadata": {
    "colab": {},
    "colab_type": "code",
    "id": "RBgoMDwMAuOh"
   },
   "outputs": [],
   "source": [
    "def make_oneshot_task(N, X, c, language=None):\n",
    "    \"\"\"Create pairs of (test image, support set image) with ground truth, for testing N-way one-shot learning.\"\"\"\n",
    "    n_classes, n_examples, w, h = X.shape\n",
    "    indices = np.random.randint(0, n_examples, size=(N,))\n",
    "    if language is not None:\n",
    "        low, high = c[language]\n",
    "        if N > high - low:\n",
    "            raise ValueError(\"This language ({}) has less than {} letters\".format(language, N))\n",
    "        categories = np.random.choice(range(low,high), size=(N,), replace=False)\n",
    "    else:  # if no language specified just pick a bunch of random letters\n",
    "        categories = np.random.choice(range(n_classes), size=(N,), replace=False)            \n",
    "    true_category = categories[0]\n",
    "    ex1, ex2 = np.random.choice(n_examples, replace=False, size=(2,))\n",
    "    test_image = np.asarray([X[true_category, ex1, :, :]]*N).reshape(N, w, h, 1)\n",
    "    support_set = X[categories, indices, :, :]\n",
    "    support_set[0, :, :] = X[true_category, ex2]\n",
    "    support_set = support_set.reshape(N, w, h, 1)\n",
    "    targets = np.zeros((N,))\n",
    "    targets[0] = 1\n",
    "    targets, test_image, support_set = shuffle(targets, test_image, support_set)\n",
    "    pairs = [test_image, support_set]\n",
    "    return pairs, targets\n"
   ]
  },
  {
   "cell_type": "code",
   "execution_count": 0,
   "metadata": {
    "colab": {},
    "colab_type": "code",
    "id": "rk5F3ffuAuOl"
   },
   "outputs": [],
   "source": [
    "def test_oneshot(model,X, c, N=20, k=250, language=None):\n",
    "    # === COMPLETE CODE BELOW ===       \n",
    "    n_correct = 0\n",
    "    print(\"Evaluating model on {} random {}-way one-shot learning tasks ...\".format(k, N))\n",
    "    for i in range(k):\n",
    "        inputs, targets = make_oneshot_task(N, X, c, language=language)\n",
    "        probs = model(inputs)\n",
    "        if np.argmax(probs) == np.argmax(targets):\n",
    "            n_correct += 1\n",
    "    percent_correct = (100.0*n_correct / k)\n",
    "    print(\"Got an average of {}% accuracy for {}-way one-shot learning\".format(percent_correct, N))\n",
    "    return percent_correct"
   ]
  },
  {
   "cell_type": "markdown",
   "metadata": {
    "colab_type": "text",
    "id": "u6yMu4jlXD26"
   },
   "source": [
    "With different triplets selecting method (random and hard), we will train our model and evaluate the model by one-shot learning accuracy.\n",
    "\n",
    "* You need to explicitly state the accuracy under different  triplets selecting method\n",
    "* When evaluating model with test_oneshot function, you should evaluate on 20 way one-shot task, and set the number (k) of evaluation one-shot tasks to be 250, then calculate the average accuracy\n",
    "\n",
    "*HINT: After training our model with random selection method, before train model under hard triplets selection, we should re-build our model (re-run the cell in Task 2.1) to initialize our model and prevent re-use the trained model of random selection*"
   ]
  },
  {
   "cell_type": "markdown",
   "metadata": {
    "colab_type": "text",
    "id": "snKKGhIoXD27"
   },
   "source": [
    "#### Evaluate one-shot learning with  random triplets selection"
   ]
  },
  {
   "cell_type": "code",
   "execution_count": 51,
   "metadata": {
    "colab": {
     "base_uri": "https://localhost:8080/",
     "height": 748
    },
    "colab_type": "code",
    "executionInfo": {
     "elapsed": 38714,
     "status": "ok",
     "timestamp": 1590767868151,
     "user": {
      "displayName": "Antonaba Varela",
      "photoUrl": "",
      "userId": "06371348070710609953"
     },
     "user_tz": -120
    },
    "id": "e-r2qB5dAuOt",
    "outputId": "8b21d69e-0aa0-472b-dda5-4701e50039d0"
   },
   "outputs": [
    {
     "name": "stdout",
     "output_type": "stream",
     "text": [
      "=== Training loop 1 ===\n",
      "10/10 [==============================] - 1s 87ms/step - loss: 19.3327\n",
      "Evaluating model on 250 random 20-way one-shot learning tasks ...\n",
      "Got an average of 2.0% accuracy for 20-way one-shot learning\n",
      "New best one-shot accuracy, saving model ...\n",
      "=== Training loop 2 ===\n",
      "10/10 [==============================] - 1s 87ms/step - loss: 21.0866\n",
      "Evaluating model on 250 random 20-way one-shot learning tasks ...\n",
      "Got an average of 5.6% accuracy for 20-way one-shot learning\n",
      "New best one-shot accuracy, saving model ...\n",
      "=== Training loop 3 ===\n",
      "10/10 [==============================] - 1s 87ms/step - loss: 21.4000\n",
      "Evaluating model on 250 random 20-way one-shot learning tasks ...\n",
      "Got an average of 0.4% accuracy for 20-way one-shot learning\n",
      "=== Training loop 4 ===\n",
      "10/10 [==============================] - 1s 87ms/step - loss: 22.0023\n",
      "Evaluating model on 250 random 20-way one-shot learning tasks ...\n",
      "Got an average of 2.0% accuracy for 20-way one-shot learning\n",
      "=== Training loop 5 ===\n",
      "10/10 [==============================] - 1s 87ms/step - loss: 20.3981\n",
      "Evaluating model on 250 random 20-way one-shot learning tasks ...\n",
      "Got an average of 4.4% accuracy for 20-way one-shot learning\n",
      "=== Training loop 6 ===\n",
      "10/10 [==============================] - 1s 86ms/step - loss: 16.8561\n",
      "Evaluating model on 250 random 20-way one-shot learning tasks ...\n",
      "Got an average of 3.6% accuracy for 20-way one-shot learning\n",
      "=== Training loop 7 ===\n",
      "10/10 [==============================] - 1s 86ms/step - loss: 23.4523\n",
      "Evaluating model on 250 random 20-way one-shot learning tasks ...\n",
      "Got an average of 3.6% accuracy for 20-way one-shot learning\n",
      "=== Training loop 8 ===\n",
      "10/10 [==============================] - 1s 87ms/step - loss: 20.7991\n",
      "Evaluating model on 250 random 20-way one-shot learning tasks ...\n",
      "Got an average of 2.8% accuracy for 20-way one-shot learning\n",
      "=== Training loop 9 ===\n",
      "10/10 [==============================] - 1s 87ms/step - loss: 21.4963\n",
      "Evaluating model on 250 random 20-way one-shot learning tasks ...\n",
      "Got an average of 6.0% accuracy for 20-way one-shot learning\n",
      "New best one-shot accuracy, saving model ...\n",
      "=== Training loop 10 ===\n",
      "10/10 [==============================] - 1s 88ms/step - loss: 23.8855\n",
      "Evaluating model on 250 random 20-way one-shot learning tasks ...\n",
      "Got an average of 3.2% accuracy for 20-way one-shot learning\n"
     ]
    }
   ],
   "source": [
    "# hard_selection == False, selcet triplets randomly\n",
    "# Train our model and evaluate the model by one-shot learning accuracy.\n",
    "loops = 10\n",
    "best_acc = 0\n",
    "for i in range(loops):\n",
    "    print(\"=== Training loop {} ===\".format(i+1))\n",
    "    triplet_net.fit(get_batch(False,64, X_train), steps_per_epoch=10, epochs=1)\n",
    "    test_acc = test_oneshot(convnet, X_test, c_test)\n",
    "    if test_acc >= best_acc:\n",
    "        print(\"New best one-shot accuracy, saving model ...\")\n",
    "        triplet_net.save(os.path.join(\"drive\",\"My Drive\",\"2IMM10\", \"Assignment 2\", \"siamese_omniglot.h5\"))\n",
    "        best_acc = test_acc"
   ]
  },
  {
   "cell_type": "markdown",
   "metadata": {
    "colab_type": "text",
    "id": "YLlvr6TRXD2-"
   },
   "source": [
    "#### Evaluate one-shot learning with  hard triplets selection"
   ]
  },
  {
   "cell_type": "code",
   "execution_count": 10,
   "metadata": {
    "colab": {
     "base_uri": "https://localhost:8080/",
     "height": 714
    },
    "colab_type": "code",
    "executionInfo": {
     "elapsed": 3578487,
     "status": "ok",
     "timestamp": 1590773177473,
     "user": {
      "displayName": "Antonaba Varela",
      "photoUrl": "",
      "userId": "06371348070710609953"
     },
     "user_tz": -120
    },
    "id": "CN_IDkRHqjb5",
    "outputId": "ddcefc01-1f8c-47ef-b997-cd318923859f"
   },
   "outputs": [
    {
     "name": "stdout",
     "output_type": "stream",
     "text": [
      "=== Training loop 1 ===\n",
      "10/10 [==============================] - 286s 29s/step - loss: 21.2270\n",
      "Evaluating model on 250 random 20-way one-shot learning tasks ...\n",
      "Got an average of 5.2% accuracy for 20-way one-shot learning\n",
      "New best one-shot accuracy, saving model ...\n",
      "=== Training loop 2 ===\n",
      "10/10 [==============================] - 288s 29s/step - loss: 20.8287\n",
      "Evaluating model on 250 random 20-way one-shot learning tasks ...\n",
      "Got an average of 3.6% accuracy for 20-way one-shot learning\n",
      "=== Training loop 3 ===\n",
      "10/10 [==============================] - 287s 29s/step - loss: 22.5791\n",
      "Evaluating model on 250 random 20-way one-shot learning tasks ...\n",
      "Got an average of 1.2% accuracy for 20-way one-shot learning\n",
      "=== Training loop 4 ===\n",
      "10/10 [==============================] - 288s 29s/step - loss: 23.4987\n",
      "Evaluating model on 250 random 20-way one-shot learning tasks ...\n",
      "Got an average of 1.2% accuracy for 20-way one-shot learning\n",
      "=== Training loop 5 ===\n",
      "10/10 [==============================] - 294s 29s/step - loss: 29.0181\n",
      "Evaluating model on 250 random 20-way one-shot learning tasks ...\n",
      "Got an average of 0.0% accuracy for 20-way one-shot learning\n",
      "=== Training loop 6 ===\n",
      "10/10 [==============================] - 291s 29s/step - loss: 21.9541\n",
      "Evaluating model on 250 random 20-way one-shot learning tasks ...\n",
      "Got an average of 0.4% accuracy for 20-way one-shot learning\n",
      "=== Training loop 7 ===\n",
      "10/10 [==============================] - 289s 29s/step - loss: 32.5332\n",
      "Evaluating model on 250 random 20-way one-shot learning tasks ...\n",
      "Got an average of 0.8% accuracy for 20-way one-shot learning\n",
      "=== Training loop 8 ===\n",
      "10/10 [==============================] - 290s 29s/step - loss: 27.5315\n",
      "Evaluating model on 250 random 20-way one-shot learning tasks ...\n",
      "Got an average of 0.4% accuracy for 20-way one-shot learning\n",
      "=== Training loop 9 ===\n",
      "10/10 [==============================] - 291s 29s/step - loss: 29.7029\n",
      "Evaluating model on 250 random 20-way one-shot learning tasks ...\n",
      "Got an average of 0.0% accuracy for 20-way one-shot learning\n",
      "=== Training loop 10 ===\n",
      "10/10 [==============================] - 294s 29s/step - loss: 34.0192\n",
      "Evaluating model on 250 random 20-way one-shot learning tasks ...\n",
      "Got an average of 0.0% accuracy for 20-way one-shot learning\n"
     ]
    }
   ],
   "source": [
    "# hard_selection == True, selcet hard triplets\n",
    "# Train our model and evaluate the model by one-shot learning accuracy.\n",
    "loops = 10\n",
    "best_acc = 0\n",
    "for i in range(loops):\n",
    "    print(\"=== Training loop {} ===\".format(i+1))\n",
    "    triplet_net.fit(get_batch(True,64, X_train), steps_per_epoch=10, epochs=1)\n",
    "    test_acc = test_oneshot(convnet, X_test, c_test)\n",
    "    if test_acc >= best_acc:\n",
    "        print(\"New best one-shot accuracy, saving model ...\")\n",
    "        triplet_net.save(os.path.join(\"drive\",\"My Drive\",\"2IMM10\", \"Assignment 2\", \"siamese_omniglot.h5\"))\n",
    "        best_acc = test_acc"
   ]
  }
 ],
 "metadata": {
  "accelerator": "GPU",
  "colab": {
   "collapsed_sections": [],
   "name": "Assignment_2_2 (1).ipynb",
   "provenance": []
  },
  "kernelspec": {
   "display_name": "Python 3",
   "language": "python",
   "name": "python3"
  },
  "language_info": {
   "codemirror_mode": {
    "name": "ipython",
    "version": 3
   },
   "file_extension": ".py",
   "mimetype": "text/x-python",
   "name": "python",
   "nbconvert_exporter": "python",
   "pygments_lexer": "ipython3",
   "version": "3.7.11"
  }
 },
 "nbformat": 4,
 "nbformat_minor": 1
}
